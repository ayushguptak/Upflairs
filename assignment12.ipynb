{
 "cells": [
  {
   "cell_type": "code",
   "execution_count": null,
   "metadata": {},
   "outputs": [],
   "source": [
    "#Question 1"
   ]
  },
  {
   "cell_type": "code",
   "execution_count": 1,
   "metadata": {},
   "outputs": [
    {
     "data": {
      "text/plain": [
       "array([[31, 15,  5, 16,  6],\n",
       "       [11, 24, 51, 56, 19],\n",
       "       [27, 23, 59, 38, 17],\n",
       "       [55, 22, 28, 14,  8],\n",
       "       [18, 21, 24,  8, 20],\n",
       "       [11, 59,  1,  7, 23],\n",
       "       [34, 30, 41, 53, 39],\n",
       "       [57, 57, 22,  3, 28],\n",
       "       [54, 16, 11, 49, 40],\n",
       "       [54, 16,  7, 16, 26],\n",
       "       [50, 47, 12,  6, 58],\n",
       "       [19, 23, 31, 26,  3]])"
      ]
     },
     "execution_count": 1,
     "metadata": {},
     "output_type": "execute_result"
    }
   ],
   "source": [
    "import numpy as np\n",
    "\n",
    "def function(arr):\n",
    "    tot_sum=0 \n",
    "    max=arr[len(arr) -1][0]\n",
    "    min=arr[len(arr) -1][0]\n",
    "    for i in arr[len(arr) -1]:\n",
    "        tot_sum += i\n",
    "        if i > max :\n",
    "            max = i\n",
    "        if i < min:\n",
    "            min = i\n",
    "    avg = tot_sum/5\n",
    "    print(f'Average : {avg} , Maximum Element : {max} , Minimum Element : {min}')  \n",
    "\n",
    "arr0 = np.random.randint(1,61,60)\n",
    "arr0\n",
    "arr1 = arr0.reshape(12,5)\n",
    "arr1"
   ]
  },
  {
   "cell_type": "code",
   "execution_count": 5,
   "metadata": {},
   "outputs": [
    {
     "name": "stdout",
     "output_type": "stream",
     "text": [
      "Average : 20.4 , Maximum Element : 31 , Minimum Element : 3\n"
     ]
    }
   ],
   "source": [
    "function(arr1)"
   ]
  },
  {
   "cell_type": "code",
   "execution_count": 2,
   "metadata": {},
   "outputs": [
    {
     "name": "stdout",
     "output_type": "stream",
     "text": [
      "Average : 20.4 , Maximum Element : 31 , Minimum Element : 3\n"
     ]
    }
   ],
   "source": [
    "        #Question 2"
   ]
  },
  {
   "cell_type": "code",
   "execution_count": 3,
   "metadata": {},
   "outputs": [
    {
     "data": {
      "text/plain": [
       "array([[1, 2, 3],\n",
       "       [4, 5, 6],\n",
       "       [7, 8, 9]])"
      ]
     },
     "execution_count": 3,
     "metadata": {},
     "output_type": "execute_result"
    }
   ],
   "source": [
    "import numpy as np\n",
    "arr  = np.array( [[1,2,3] , [4,5,6] , [7,8,9]] )\n",
    "arr"
   ]
  },
  {
   "cell_type": "code",
   "execution_count": 4,
   "metadata": {},
   "outputs": [
    {
     "data": {
      "text/plain": [
       "array([[3, 2, 1],\n",
       "       [6, 5, 4],\n",
       "       [9, 8, 7]])"
      ]
     },
     "execution_count": 4,
     "metadata": {},
     "output_type": "execute_result"
    }
   ],
   "source": [
    "arr[: , ::-1]"
   ]
  }
 ],
 "metadata": {
  "kernelspec": {
   "display_name": "Python 3",
   "language": "python",
   "name": "python3"
  },
  "language_info": {
   "codemirror_mode": {
    "name": "ipython",
    "version": 3
   },
   "file_extension": ".py",
   "mimetype": "text/x-python",
   "name": "python",
   "nbconvert_exporter": "python",
   "pygments_lexer": "ipython3",
   "version": "3.11.5"
  }
 },
 "nbformat": 4,
 "nbformat_minor": 2
}
