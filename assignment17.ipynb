{
 "cells": [
  {
   "cell_type": "code",
   "execution_count": 2,
   "metadata": {},
   "outputs": [],
   "source": [
    "# 1. Write a program to find average of all the even numbers, and \n",
    "# odd number that are present in the list. And also your program \n",
    "# shold be return no. of evens and odd are present in this list List \n",
    "# for your reference  \n",
    "# lst = [25,41,85,96,35,64,75,9,12,21,32,23,25,56] "
   ]
  },
  {
   "cell_type": "code",
   "execution_count": 3,
   "metadata": {},
   "outputs": [
    {
     "name": "stdout",
     "output_type": "stream",
     "text": [
      "Average of even number :  52.0\n",
      "Average of odd number :  37.666666666666664\n",
      "Count of even number :  5\n",
      "Count of odd number :  9\n"
     ]
    }
   ],
   "source": [
    "lst = [25,41,85,96,35,64,75,9,12,21,32,23,25,56]\n",
    "sum_even = 0\n",
    "count_even = 0\n",
    "sum_odd = 0\n",
    "count_odd = 0\n",
    "for i in lst:\n",
    "    if i%2 == 0:\n",
    "        sum_even = sum_even + i\n",
    "        count_even = count_even + 1\n",
    "    else:\n",
    "        sum_odd = sum_odd + i\n",
    "        count_odd = count_odd + 1\n",
    "print(\"Average of even number : \",(sum_even/count_even))\n",
    "print(\"Average of odd number : \",(sum_odd/count_odd))\n",
    "print(\"Count of even number : \",(count_even))\n",
    "print(\"Count of odd number : \",(count_odd))\n"
   ]
  },
  {
   "cell_type": "code",
   "execution_count": 4,
   "metadata": {},
   "outputs": [],
   "source": [
    "# 2. Write a program to find the target element from the list, with linear search and Binary Search."
   ]
  },
  {
   "cell_type": "code",
   "execution_count": 4,
   "metadata": {},
   "outputs": [
    {
     "name": "stdout",
     "output_type": "stream",
     "text": [
      "56 is found at 13th index\n"
     ]
    }
   ],
   "source": [
    "                    # Linear Search\n",
    "lst = [25,41,85,96,35,64,75,9,12,21,32,23,25,56]\n",
    "target_element = int(input(\"Enter the target element : \"))\n",
    "found = True\n",
    "for i in range(len(lst)):\n",
    "    if target_element == lst[i]:\n",
    "        print(f\"{target_element} is found at {i}th index\")\n",
    "        found = False\n",
    "if found:      \n",
    "    print(\"Element not found. \")\n",
    "        "
   ]
  },
  {
   "cell_type": "code",
   "execution_count": null,
   "metadata": {},
   "outputs": [],
   "source": [
    "                        # Binary Search \n",
    "lst = [25,41,85,96,35,64,75,9,12,21,32,23,25,56]\n",
    "lst.sort()\n",
    "target = int(input(\"Enter Your Target Element : \"))\n",
    "low = 0\n",
    "high = len(lst) - 1\n",
    "while( low <= high):\n",
    "   mid = (low + high)//2 \n",
    "   if lst[mid] == target:\n",
    "      print(f\"{target} is present in list\")\n",
    "      break\n",
    "   elif target < lst[mid]:\n",
    "      high = mid -1\n",
    "   elif target > lst[mid]:\n",
    "      low = mid + 1\n",
    "   else:\n",
    "      print(\"Element Not Found\")"
   ]
  },
  {
   "cell_type": "code",
   "execution_count": null,
   "metadata": {},
   "outputs": [],
   "source": [
    "# 3. Learn about list comprehension and write a program to generate a list of square element from this given \n",
    "# list and also try to filter all the even numbers from the given list using list comprehension. \n",
    "# lst = [25,41,85,96,35,64,75,9,12,21,32,23,25,56]"
   ]
  },
  {
   "cell_type": "code",
   "execution_count": 9,
   "metadata": {},
   "outputs": [
    {
     "name": "stdout",
     "output_type": "stream",
     "text": [
      "Square of Numbers in Lst are :  [625, 1681, 7225, 9216, 1225, 4096, 5625, 81, 144, 441, 1024, 529, 625, 3136]\n"
     ]
    }
   ],
   "source": [
    "lst = [25,41,85,96,35,64,75,9,12,21,32,23,25,56]\n",
    "square = [ i ** 2 for i in lst]\n",
    "print(\"Square of Numbers in Lst are : \",(square))"
   ]
  },
  {
   "cell_type": "code",
   "execution_count": 5,
   "metadata": {},
   "outputs": [
    {
     "name": "stdout",
     "output_type": "stream",
     "text": [
      "Even Numbers in list are :  [96, 64, 12, 32, 56]\n"
     ]
    }
   ],
   "source": [
    "lst = [25,41,85,96,35,64,75,9,12,21,32,23,25,56]\n",
    "even = [i for i in lst if i%2 == 0]\n",
    "print(\"Even Numbers in list are : \",(even))"
   ]
  }
 ],
 "metadata": {
  "kernelspec": {
   "display_name": "Python 3",
   "language": "python",
   "name": "python3"
  },
  "language_info": {
   "codemirror_mode": {
    "name": "ipython",
    "version": 3
   },
   "file_extension": ".py",
   "mimetype": "text/x-python",
   "name": "python",
   "nbconvert_exporter": "python",
   "pygments_lexer": "ipython3",
   "version": "3.11.5"
  }
 },
 "nbformat": 4,
 "nbformat_minor": 2
}
